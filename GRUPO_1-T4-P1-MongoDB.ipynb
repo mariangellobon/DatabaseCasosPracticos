{
 "cells": [
  {
   "cell_type": "markdown",
   "metadata": {},
   "source": [
    "# Práctica 1: Introducción a las bases de datos documentales con MongoDB."
   ]
  },
  {
   "cell_type": "code",
   "execution_count": 2,
   "metadata": {},
   "outputs": [],
   "source": [
    "# Imports\n",
    "import pymongo\n",
    "import json\n",
    "from pprint import pprint"
   ]
  },
  {
   "cell_type": "code",
   "execution_count": 3,
   "metadata": {},
   "outputs": [],
   "source": [
    "# Conexiones con MongoDB\n",
    "db_name = \"practica_1_mongodb\"\n",
    "db_uri = \"mongodb://localhost:27017\"\n",
    "db_client = pymongo.MongoClient(db_uri)"
   ]
  },
  {
   "cell_type": "markdown",
   "metadata": {},
   "source": [
    "# *Apartado A*"
   ]
  },
  {
   "cell_type": "markdown",
   "metadata": {},
   "source": [
    "Crea una BBDD llamada “practica_1_mongodb”."
   ]
  },
  {
   "cell_type": "markdown",
   "metadata": {},
   "source": [
    "### Consulta en MongoDB"
   ]
  },
  {
   "cell_type": "markdown",
   "metadata": {},
   "source": [
    "```mongodb\n",
    "use practica_1_mongodb"
   ]
  },
  {
   "cell_type": "markdown",
   "metadata": {},
   "source": [
    "### Consulta en Python"
   ]
  },
  {
   "cell_type": "code",
   "execution_count": 4,
   "metadata": {},
   "outputs": [],
   "source": [
    "db = db_client[db_name]"
   ]
  },
  {
   "cell_type": "markdown",
   "metadata": {},
   "source": [
    "### Explicación"
   ]
  },
  {
   "cell_type": "markdown",
   "metadata": {},
   "source": []
  },
  {
   "cell_type": "markdown",
   "metadata": {},
   "source": [
    "# *Apartado B*"
   ]
  },
  {
   "cell_type": "markdown",
   "metadata": {},
   "source": [
    "Crea las siguientes colecciones:  \n",
    "a.\tuniversidades  \n",
    "b.\tcampus  \n",
    "c.\tgrados  \n",
    "d.\talumnos\n"
   ]
  },
  {
   "cell_type": "markdown",
   "metadata": {},
   "source": [
    "### Consulta en MongoDB"
   ]
  },
  {
   "cell_type": "markdown",
   "metadata": {},
   "source": [
    "```mongodb\n",
    "db.createCollection(\"universidades\")  \n",
    "db.createCollection(\"campus\")  \n",
    "db.createCollection(\"grados\")  \n",
    "db.createCollection(\"alumnos\")"
   ]
  },
  {
   "cell_type": "markdown",
   "metadata": {},
   "source": [
    "### Consulta en Python"
   ]
  },
  {
   "cell_type": "code",
   "execution_count": 7,
   "metadata": {},
   "outputs": [
    {
     "data": {
      "text/plain": [
       "Collection(Database(MongoClient(host=['localhost:27017'], document_class=dict, tz_aware=False, connect=True), 'practica_1_mongodb'), 'prueba_python')"
      ]
     },
     "execution_count": 7,
     "metadata": {},
     "output_type": "execute_result"
    }
   ],
   "source": [
    "db.create_collection('universidades')\n",
    "db.create_collection('campus')\n",
    "db.create_collection('grados')\n",
    "db.create_collection('alumnos')"
   ]
  },
  {
   "cell_type": "markdown",
   "metadata": {},
   "source": [
    "### Explicación"
   ]
  },
  {
   "cell_type": "markdown",
   "metadata": {},
   "source": []
  },
  {
   "cell_type": "markdown",
   "metadata": {},
   "source": [
    "# *Apartado C*"
   ]
  },
  {
   "cell_type": "markdown",
   "metadata": {},
   "source": [
    "Abre el fichero “universidades.json” y carga línea a línea los documentos presentes."
   ]
  },
  {
   "cell_type": "markdown",
   "metadata": {},
   "source": [
    "### Consulta en MongoDB"
   ]
  },
  {
   "cell_type": "markdown",
   "metadata": {},
   "source": [
    "```mongodb\n",
    "db.universidades.insertOne({\n",
    "    \"_id\": \"URJC\",\n",
    "    \"nombre\": \"Universidad Rey Juan Carlos\",\n",
    "    \"ubicacion\": \"Madrid\",\n",
    "    \"fundada_en\": 1996\n",
    "})  \n",
    "  \n",
    "db.universidades.insertOne({\n",
    "    \"_id\": \"CEU\",\n",
    "    \"nombre\": \"Universidad CEU San Pablo\",\n",
    "    \"ubicacion\": \"Madrid\",\n",
    "    \"fundada_en\": 1993\n",
    "})  \n",
    "  \n",
    "db.universidades.insertOne({\n",
    "    \"_id\": \"UCM\",\n",
    "    \"nombre\": \"Universidad Complutense de Madrid\",\n",
    "    \"ubicacion\": \"Madrid\",\n",
    "    \"fundada_en\": 1822\n",
    "})\n"
   ]
  },
  {
   "cell_type": "markdown",
   "metadata": {},
   "source": [
    "### Consulta en Python"
   ]
  },
  {
   "cell_type": "code",
   "execution_count": 5,
   "metadata": {},
   "outputs": [
    {
     "data": {
      "text/plain": [
       "InsertOneResult('UCM', acknowledged=True)"
      ]
     },
     "execution_count": 5,
     "metadata": {},
     "output_type": "execute_result"
    }
   ],
   "source": [
    "db.universidades.insert_one({\n",
    "    \"_id\": \"URJC\",\n",
    "    \"nombre\": \"Universidad Rey Juan Carlos\",\n",
    "    \"ubicacion\": \"Madrid\",\n",
    "    \"fundada_en\": 1996\n",
    "})\n",
    "\n",
    "db.universidades.insert_one({\n",
    "    \"_id\": \"CEU\",\n",
    "    \"nombre\": \"Universidad CEU San Pablo\",\n",
    "    \"ubicacion\": \"Madrid\",\n",
    "    \"fundada_en\": 1993\n",
    "})\n",
    "\n",
    "db.universidades.insert_one({\n",
    "    \"_id\": \"UCM\",\n",
    "    \"nombre\": \"Universidad Complutense de Madrid\",\n",
    "    \"ubicacion\": \"Madrid\",\n",
    "    \"fundada_en\": 1822\n",
    "})\n"
   ]
  },
  {
   "cell_type": "markdown",
   "metadata": {},
   "source": [
    "### Explicación"
   ]
  },
  {
   "cell_type": "markdown",
   "metadata": {},
   "source": []
  },
  {
   "cell_type": "markdown",
   "metadata": {},
   "source": [
    "# *Apartado D*"
   ]
  },
  {
   "cell_type": "markdown",
   "metadata": {},
   "source": [
    "Abre el fichero “campus.json” y carga de una sola vez todos los documentos."
   ]
  },
  {
   "cell_type": "markdown",
   "metadata": {},
   "source": [
    "### Consulta en MongoDB"
   ]
  },
  {
   "cell_type": "markdown",
   "metadata": {},
   "source": [
    "```mongodb\n",
    "db.campus.insertMany([\n",
    "    {\n",
    "        \"_id\": \"URJC_MOSTOLES\",\n",
    "        \"nombre\": \"Campus de Móstoles\",\n",
    "        \"ubicacion\": \"Móstoles, Madrid\",\n",
    "        \"universidad_id\": \"URJC\"\n",
    "    },\n",
    "    {\n",
    "        \"_id\": \"URJC_ALCORCON\",\n",
    "        \"nombre\": \"Campus de Alcorcón\",\n",
    "        \"ubicacion\": \"Alcorcón, Madrid\",\n",
    "        \"universidad_id\": \"URJC\"\n",
    "    },\n",
    "    {\n",
    "        \"_id\": \"UCM_MADRID\",\n",
    "        \"nombre\": \"Campus de Moncloa\",\n",
    "        \"ubicacion\": \"Madrid\",\n",
    "        \"universidad_id\": \"UCM\"\n",
    "    },\n",
    "    {\n",
    "        \"_id\": \"CEU_BOADILLA\",\n",
    "        \"nombre\": \"Campus de Montepríncipe\",\n",
    "        \"ubicacion\": \"Boadilla del Monte, Madrid\",\n",
    "        \"universidad_id\": \"CEU\"\n",
    "    },\n",
    "    {\n",
    "        \"_id\": \"CEU_MADRID\",\n",
    "        \"nombre\": \"Campus de Madrid\",\n",
    "        \"ubicacion\": \"Madrid\",\n",
    "        \"universidad_id\": \"CEU\"\n",
    "    }\n",
    "])\n"
   ]
  },
  {
   "cell_type": "markdown",
   "metadata": {},
   "source": [
    "### Consulta en Python"
   ]
  },
  {
   "cell_type": "code",
   "execution_count": 6,
   "metadata": {},
   "outputs": [
    {
     "data": {
      "text/plain": [
       "InsertManyResult(['URJC_MOSTOLES', 'URJC_ALCORCON', 'UCM_MADRID', 'CEU_BOADILLA', 'CEU_MADRID'], acknowledged=True)"
      ]
     },
     "execution_count": 6,
     "metadata": {},
     "output_type": "execute_result"
    }
   ],
   "source": [
    "db.campus.insert_many([\n",
    "    {\n",
    "        \"_id\": \"URJC_MOSTOLES\",\n",
    "        \"nombre\": \"Campus de Móstoles\",\n",
    "        \"ubicacion\": \"Móstoles, Madrid\",\n",
    "        \"universidad_id\": \"URJC\"\n",
    "    },\n",
    "    {\n",
    "        \"_id\": \"URJC_ALCORCON\",\n",
    "        \"nombre\": \"Campus de Alcorcón\",\n",
    "        \"ubicacion\": \"Alcorcón, Madrid\",\n",
    "        \"universidad_id\": \"URJC\"\n",
    "    },\n",
    "    {\n",
    "        \"_id\": \"UCM_MADRID\",\n",
    "        \"nombre\": \"Campus de Moncloa\",\n",
    "        \"ubicacion\": \"Madrid\",\n",
    "        \"universidad_id\": \"UCM\"\n",
    "    },\n",
    "    {\n",
    "        \"_id\": \"CEU_BOADILLA\",\n",
    "        \"nombre\": \"Campus de Montepríncipe\",\n",
    "        \"ubicacion\": \"Boadilla del Monte, Madrid\",\n",
    "        \"universidad_id\": \"CEU\"\n",
    "    },\n",
    "    {\n",
    "        \"_id\": \"CEU_MADRID\",\n",
    "        \"nombre\": \"Campus de Madrid\",\n",
    "        \"ubicacion\": \"Madrid\",\n",
    "        \"universidad_id\": \"CEU\"\n",
    "    }\n",
    "])\n"
   ]
  },
  {
   "cell_type": "markdown",
   "metadata": {},
   "source": [
    "### Explicación"
   ]
  },
  {
   "cell_type": "markdown",
   "metadata": {},
   "source": []
  },
  {
   "cell_type": "markdown",
   "metadata": {},
   "source": [
    "# *Apartado E*"
   ]
  },
  {
   "cell_type": "markdown",
   "metadata": {},
   "source": [
    "Carga directamente el fichero JSON, tanto “grados.json” como “alumnos.json” con la utilidad para carga de ficheros JSON.  \n",
    "Para hacer uso de la utilidad “mongoimport” debes ejecutarlo desde una terminal de Windows, no sirve la terminal de MongoDB Compass."
   ]
  },
  {
   "cell_type": "markdown",
   "metadata": {},
   "source": [
    "### Consulta en MongoDB"
   ]
  },
  {
   "cell_type": "markdown",
   "metadata": {},
   "source": [
    "```shell\n",
    "mongoimport --db practica_1_mongodb --collection alumnos --file \"ruta\\alumnos.json\" --jsonArray\n",
    "mongoimport --db practica_1_mongodb --collection grados --file \"ruta\\grados.json\" --jsonArray"
   ]
  },
  {
   "cell_type": "markdown",
   "metadata": {},
   "source": [
    "### Consulta en Python"
   ]
  },
  {
   "cell_type": "code",
   "execution_count": 8,
   "metadata": {},
   "outputs": [],
   "source": [
    "def importacion_datos(ruta_coleccion, coleccion):\n",
    "    \n",
    "    with open(ruta_coleccion, \"r\", encoding=\"utf-8\") as file:\n",
    "        datos = json.load(file)\n",
    "        db[coleccion].insert_many(datos)\n",
    "        #db.coleccion.insert_many(datos) # ESTO NO SIRVE PARA HACERLO DINAMICO\n",
    "        print(f\"Datos del fichero '{ruta_coleccion}' importados correctamente en la coleccion '{coleccion}'\")"
   ]
  },
  {
   "cell_type": "code",
   "execution_count": 9,
   "metadata": {},
   "outputs": [],
   "source": [
    "ruta_coleccion_alumnos = \"alumnos.json\"\n",
    "ruta_coleccion_grados = \"grados.json\""
   ]
  },
  {
   "cell_type": "code",
   "execution_count": 11,
   "metadata": {},
   "outputs": [
    {
     "name": "stdout",
     "output_type": "stream",
     "text": [
      "Datos del fichero 'alumnos.json' importados correctamente en la coleccion 'alumnos_2'\n",
      "Datos del fichero 'grados.json' importados correctamente en la coleccion 'grados_2'\n"
     ]
    }
   ],
   "source": [
    "importacion_datos(ruta_coleccion_alumnos, \"alumnos_2\")\n",
    "importacion_datos(ruta_coleccion_grados, \"grados_2\")"
   ]
  },
  {
   "cell_type": "markdown",
   "metadata": {},
   "source": [
    "### Explicación"
   ]
  },
  {
   "cell_type": "markdown",
   "metadata": {},
   "source": []
  },
  {
   "cell_type": "markdown",
   "metadata": {},
   "source": [
    "# *Apartado F*"
   ]
  },
  {
   "cell_type": "markdown",
   "metadata": {},
   "source": [
    "Realiza una selección de todas las universidades."
   ]
  },
  {
   "cell_type": "markdown",
   "metadata": {},
   "source": [
    "### Consulta en MongoDB"
   ]
  },
  {
   "cell_type": "markdown",
   "metadata": {},
   "source": [
    "```mongodb\n",
    "db.universidades.find()  \n",
    "db.universidades.find().pretty()"
   ]
  },
  {
   "cell_type": "markdown",
   "metadata": {},
   "source": [
    "### Consulta en Python"
   ]
  },
  {
   "cell_type": "code",
   "execution_count": 12,
   "metadata": {},
   "outputs": [
    {
     "name": "stdout",
     "output_type": "stream",
     "text": [
      "{'_id': 'URJC', 'nombre': 'Universidad Rey Juan Carlos', 'ubicacion': 'Madrid', 'fundada_en': 1996}\n",
      "{'_id': 'CEU', 'nombre': 'Universidad CEU San Pablo', 'ubicacion': 'Madrid', 'fundada_en': 1993}\n",
      "{'_id': 'UCM', 'nombre': 'Universidad Complutense de Madrid', 'ubicacion': 'Madrid', 'fundada_en': 1822}\n"
     ]
    }
   ],
   "source": [
    "documentos = db.universidades.find()\n",
    "for documento in documentos:\n",
    "    print(documento)"
   ]
  },
  {
   "cell_type": "code",
   "execution_count": 13,
   "metadata": {},
   "outputs": [
    {
     "name": "stdout",
     "output_type": "stream",
     "text": [
      "{'_id': 'URJC',\n",
      " 'fundada_en': 1996,\n",
      " 'nombre': 'Universidad Rey Juan Carlos',\n",
      " 'ubicacion': 'Madrid'}\n",
      "{'_id': 'CEU',\n",
      " 'fundada_en': 1993,\n",
      " 'nombre': 'Universidad CEU San Pablo',\n",
      " 'ubicacion': 'Madrid'}\n",
      "{'_id': 'UCM',\n",
      " 'fundada_en': 1822,\n",
      " 'nombre': 'Universidad Complutense de Madrid',\n",
      " 'ubicacion': 'Madrid'}\n"
     ]
    }
   ],
   "source": [
    "from pprint import pprint\n",
    "\n",
    "documentos = db.universidades.find()\n",
    "\n",
    "for documento in documentos:\n",
    "    pprint(documento)"
   ]
  },
  {
   "cell_type": "markdown",
   "metadata": {},
   "source": [
    "### Explicación"
   ]
  },
  {
   "cell_type": "markdown",
   "metadata": {},
   "source": []
  },
  {
   "cell_type": "markdown",
   "metadata": {},
   "source": [
    "# *Apartado G*"
   ]
  },
  {
   "cell_type": "markdown",
   "metadata": {},
   "source": [
    "Modifica la edad del alumno con el DNI “34567890X”. La nueva edad será 23 años."
   ]
  },
  {
   "cell_type": "markdown",
   "metadata": {},
   "source": [
    "### Consulta en MongoDB"
   ]
  },
  {
   "cell_type": "markdown",
   "metadata": {},
   "source": [
    "```mongodb\n",
    "db.alumnos.updateOne(  \n",
    "    { dni: \"34567890X\" },  // Filtro para encontrar al alumno por DNI  \n",
    "    { $set: { edad: 23 } }  // Operador para establecer la nueva edad  \n",
    ")\n"
   ]
  },
  {
   "cell_type": "markdown",
   "metadata": {},
   "source": [
    "### Consulta en Python"
   ]
  },
  {
   "cell_type": "code",
   "execution_count": 14,
   "metadata": {},
   "outputs": [
    {
     "data": {
      "text/plain": [
       "UpdateResult({'n': 1, 'nModified': 0, 'ok': 1.0, 'updatedExisting': True}, acknowledged=True)"
      ]
     },
     "execution_count": 14,
     "metadata": {},
     "output_type": "execute_result"
    }
   ],
   "source": [
    "db.alumnos.update_one(\n",
    "    { \"dni\": \"34567890X\" },\n",
    "    { \"$set\": { \"edad\": 23 } }\n",
    ")"
   ]
  },
  {
   "cell_type": "markdown",
   "metadata": {},
   "source": [
    "### Explicación"
   ]
  },
  {
   "cell_type": "markdown",
   "metadata": {},
   "source": []
  },
  {
   "cell_type": "markdown",
   "metadata": {},
   "source": [
    "# *Apartado H*"
   ]
  },
  {
   "cell_type": "markdown",
   "metadata": {},
   "source": [
    "Añade al alumno con ID “10002” el grado “\"UCM_MADRID_G1\"."
   ]
  },
  {
   "cell_type": "markdown",
   "metadata": {},
   "source": [
    "### Consulta en MongoDB"
   ]
  },
  {
   "cell_type": "markdown",
   "metadata": {},
   "source": [
    "```mongodb\n",
    "db.alumnos.updateOne(  \n",
    "    { _id: 10002 },  // Filtro para encontrar al alumno por ID  \n",
    "    { $push: { grado_ids: \"UCM_MADRID_G1\" } }  // Añadir el nuevo grado al array  \n",
    ")  "
   ]
  },
  {
   "cell_type": "markdown",
   "metadata": {},
   "source": [
    "### Consulta en Python"
   ]
  },
  {
   "cell_type": "code",
   "execution_count": 15,
   "metadata": {},
   "outputs": [
    {
     "data": {
      "text/plain": [
       "UpdateResult({'n': 1, 'nModified': 1, 'ok': 1.0, 'updatedExisting': True}, acknowledged=True)"
      ]
     },
     "execution_count": 15,
     "metadata": {},
     "output_type": "execute_result"
    }
   ],
   "source": [
    "db.alumnos.update_one(\n",
    "    { \"_id\": 10002 },\n",
    "    { \"$push\": { \"grado_ids\": \"UCM_MADRID_G1\" } }\n",
    ")"
   ]
  },
  {
   "cell_type": "markdown",
   "metadata": {},
   "source": [
    "### Explicación"
   ]
  },
  {
   "cell_type": "markdown",
   "metadata": {},
   "source": []
  },
  {
   "cell_type": "markdown",
   "metadata": {},
   "source": [
    "# *Apartado I*"
   ]
  },
  {
   "cell_type": "markdown",
   "metadata": {},
   "source": [
    "Realiza una selección de aquellos alumnos que tengan una edad igual o inferior a 20 años."
   ]
  },
  {
   "cell_type": "markdown",
   "metadata": {},
   "source": [
    "### Consulta en MongoDB"
   ]
  },
  {
   "cell_type": "markdown",
   "metadata": {},
   "source": [
    "```mongodb\n",
    "db.alumnos.find({ edad: { $lte: 20 } }).pretty()"
   ]
  },
  {
   "cell_type": "markdown",
   "metadata": {},
   "source": [
    "### Consulta en Python"
   ]
  },
  {
   "cell_type": "code",
   "execution_count": 16,
   "metadata": {},
   "outputs": [
    {
     "name": "stdout",
     "output_type": "stream",
     "text": [
      "{'_id': 10001,\n",
      " 'apellidos': 'Martínez García',\n",
      " 'dni': '12345678Z',\n",
      " 'edad': 20,\n",
      " 'grado_ids': ['URJC_MOSTOLES_G1', 'URJC_MOSTOLES_G2'],\n",
      " 'nombre': 'Laura'}\n",
      "{'_id': 10005,\n",
      " 'apellidos': 'López Díaz',\n",
      " 'dni': '56789012V',\n",
      " 'edad': 19,\n",
      " 'grado_ids': ['URJC_ALCORCON_G1', 'UCM_MADRID_G2'],\n",
      " 'nombre': 'María'}\n"
     ]
    }
   ],
   "source": [
    "documentos = db.alumnos.find({ \"edad\": { \"$lte\": 20 } })\n",
    "\n",
    "for documento in documentos:\n",
    "    pprint(documento)"
   ]
  },
  {
   "cell_type": "markdown",
   "metadata": {},
   "source": [
    "### Explicación"
   ]
  },
  {
   "cell_type": "markdown",
   "metadata": {},
   "source": []
  },
  {
   "cell_type": "markdown",
   "metadata": {},
   "source": [
    "# *Apartado J*"
   ]
  },
  {
   "cell_type": "markdown",
   "metadata": {},
   "source": [
    "Ahora, queremos que se muestren aquellos alumnos que sean mayores que 20 años y que solo estudien un grado.  \n",
    "Selecciona para la salida únicamente los campos “edad”, “dni” y “grados_ids”.  \n",
    "Además, ordena el resultado de menor a mayor edad.\n"
   ]
  },
  {
   "cell_type": "markdown",
   "metadata": {},
   "source": [
    "### Consulta en MongoDB"
   ]
  },
  {
   "cell_type": "markdown",
   "metadata": {},
   "source": [
    "```mongodb\n",
    "db.alumnos.find(  \n",
    "    {  \n",
    "        edad: { $gt: 20 }, \n",
    "        grado_ids: { $size: 1 }  \n",
    "    },  \n",
    "    {  \n",
    "        edad: 1, dni: 1, grado_ids: 1, _id: 0  \n",
    "    }  \n",
    ").sort({ edad: 1 }).pretty()  // Ordenar por edad de menor a mayor"
   ]
  },
  {
   "cell_type": "markdown",
   "metadata": {},
   "source": [
    "### Consulta en Python"
   ]
  },
  {
   "cell_type": "code",
   "execution_count": 17,
   "metadata": {},
   "outputs": [],
   "source": [
    "documentos = db.alumnos.find(\n",
    "    {\n",
    "        \"edad\": { \"$gt\": 20 },\n",
    "        \"grado_ids\": { \"$size\": 1 }\n",
    "    },\n",
    "    {\n",
    "        \"edad\": 1, \"dni\": 1, \"grado_ids\": 1, \"_id\": 0\n",
    "    }\n",
    ").sort(\"edad\", 1)"
   ]
  },
  {
   "cell_type": "code",
   "execution_count": 18,
   "metadata": {},
   "outputs": [
    {
     "name": "stdout",
     "output_type": "stream",
     "text": [
      "{'dni': '34567890X', 'edad': 23, 'grado_ids': ['UCM_MADRID_G1']}\n",
      "{'dni': '45678901W', 'edad': 23, 'grado_ids': ['CEU_BOADILLA_G1']}\n"
     ]
    }
   ],
   "source": [
    "for documento in documentos:\n",
    "    pprint(documento)"
   ]
  },
  {
   "cell_type": "markdown",
   "metadata": {},
   "source": [
    "### Explicación"
   ]
  },
  {
   "cell_type": "markdown",
   "metadata": {},
   "source": []
  },
  {
   "cell_type": "markdown",
   "metadata": {},
   "source": [
    "# *Apartado K*"
   ]
  },
  {
   "cell_type": "markdown",
   "metadata": {},
   "source": [
    "Realiza una join entre la colección de alumnos y la de grados. El resultado a devolver por parte del alumno son los campos “edad” y “dni”, y por parte del grado el “nombre\", pero renombrando en la salida el nombre de la variable por “nombre_grado”.  \n",
    "El resultado devuelto debe devolver dentro del documento de cada alumno los diferentes documentos de los grados asociados al alumno. Es decir, dentro del documento del alumno se devolverá un array con los nombres de los grados vinculados."
   ]
  },
  {
   "cell_type": "markdown",
   "metadata": {},
   "source": [
    "### Consulta en MongoDB"
   ]
  },
  {
   "cell_type": "markdown",
   "metadata": {},
   "source": [
    "```mongodb\n",
    "db.alumnos.aggregate([  \n",
    "    {  \n",
    "        $lookup: {  \n",
    "            from: \"grados\",                   // Nombre de la colección a la que se hará el \"join\"  \n",
    "            localField: \"grado_ids\",          // Campo en la colección \"alumnos\" que contiene los IDs de grados  \n",
    "            foreignField: \"_id\",              // Campo en la colección \"grados\" que es el ID  \n",
    "            as: \"grados_info\"                 // Nombre del campo resultante que contendrá los documentos \"grados\" coincidentes  \n",
    "        }  \n",
    "    },  \n",
    "    {  \n",
    "        $project: {  \n",
    "            _id: 0,                           // Excluir el campo _id de la salida  \n",
    "            edad: 1,                          // Incluir el campo \"edad\" del alumno  \n",
    "            dni: 1,                           // Incluir el campo \"dni\" del alumno  \n",
    "            \"nombre_grado\": \"$grados_info.nombre\"            // Incluir el campo \"nombre\" del grado pero cambiandole el nombre por \"nombre_grado\"\n",
    "        }  \n",
    "    }  \n",
    "]).pretty()  "
   ]
  },
  {
   "cell_type": "markdown",
   "metadata": {},
   "source": [
    "### Consulta en Python"
   ]
  },
  {
   "cell_type": "code",
   "execution_count": 28,
   "metadata": {},
   "outputs": [
    {
     "name": "stdout",
     "output_type": "stream",
     "text": [
      "{'dni': '12345678Z',\n",
      " 'edad': 20,\n",
      " 'nombre_grado': ['Grado en Ingeniería Informática',\n",
      "                  'Grado en Administración y Dirección de Empresas']}\n",
      "{'dni': '23456789Y',\n",
      " 'edad': 22,\n",
      " 'nombre_grado': ['Grado en Medicina', 'Grado en Derecho']}\n",
      "{'dni': '34567890X', 'edad': 23, 'nombre_grado': ['Grado en Medicina']}\n",
      "{'dni': '45678901W',\n",
      " 'edad': 23,\n",
      " 'nombre_grado': ['Grado en Comunicación Audiovisual']}\n",
      "{'dni': '56789012V',\n",
      " 'edad': 19,\n",
      " 'nombre_grado': ['Grado en Enfermería', 'Grado en Psicología']}\n"
     ]
    }
   ],
   "source": [
    "pipeline = [\n",
    "    {\n",
    "        \"$lookup\": {\n",
    "            \"from\": \"grados\",\n",
    "            \"localField\": \"grado_ids\",\n",
    "            \"foreignField\": \"_id\",\n",
    "            \"as\": \"grados_info\"\n",
    "        }\n",
    "    },\n",
    "    {\n",
    "        \"$project\": {\n",
    "            \"_id\": 0,\n",
    "            \"edad\": 1,\n",
    "            \"dni\": 1,\n",
    "            \"nombre_grado\": \"$grados_info.nombre\"\n",
    "        }\n",
    "    }\n",
    "]\n",
    "\n",
    "# Ejecutar el pipeline\n",
    "documentos = db.alumnos.aggregate(pipeline)\n",
    "\n",
    "for documento in documentos:\n",
    "    pprint(documento)"
   ]
  },
  {
   "cell_type": "markdown",
   "metadata": {},
   "source": [
    "### Explicación"
   ]
  },
  {
   "cell_type": "markdown",
   "metadata": {},
   "source": []
  },
  {
   "cell_type": "markdown",
   "metadata": {},
   "source": [
    "# *Apartado L*"
   ]
  },
  {
   "cell_type": "markdown",
   "metadata": {},
   "source": [
    "Realiza la misma consulta que en el apartado K, solo que en esta ocasión la salida debe ser un documento por cada combinación de alumno y grado."
   ]
  },
  {
   "cell_type": "markdown",
   "metadata": {},
   "source": [
    "### Consulta en MongoDB"
   ]
  },
  {
   "cell_type": "markdown",
   "metadata": {},
   "source": [
    "```mongodb\n",
    "db.alumnos.aggregate([  \n",
    "    {  \n",
    "        $lookup: {  \n",
    "            from: \"grados\",                   // Nombre de la colección a la que se hará el \"join\"  \n",
    "            localField: \"grado_ids\",          // Campo en la colección \"alumnos\" que contiene los IDs de grados  \n",
    "            foreignField: \"_id\",              // Campo en la colección \"grados\" que es el ID  \n",
    "            as: \"grados_info\"                 // Nombre del campo resultante que contendrá los documentos \"grados\" coincidentes  \n",
    "        }  \n",
    "    },\n",
    "    {\n",
    "        $unwind: \"$grados_info\"\n",
    "    },\n",
    "    {  \n",
    "        $project: {  \n",
    "            _id: 0,                           // Excluir el campo _id de la salida  \n",
    "            edad: 1,                          // Incluir el campo \"edad\" del alumno  \n",
    "            dni: 1,                           // Incluir el campo \"dni\" del alumno  \n",
    "            \"nombre_grado\": \"$grados_info.nombre\"            // Incluir el campo \"nombre\" del grado pero cambiandole el nombre por \"nombre_grado\"\n",
    "        }  \n",
    "    }  \n",
    "]).pretty()"
   ]
  },
  {
   "cell_type": "markdown",
   "metadata": {},
   "source": [
    "### Consulta en Python"
   ]
  },
  {
   "cell_type": "code",
   "execution_count": 29,
   "metadata": {},
   "outputs": [
    {
     "name": "stdout",
     "output_type": "stream",
     "text": [
      "{'dni': '12345678Z',\n",
      " 'edad': 20,\n",
      " 'nombre_grado': 'Grado en Administración y Dirección de Empresas'}\n",
      "{'dni': '12345678Z',\n",
      " 'edad': 20,\n",
      " 'nombre_grado': 'Grado en Ingeniería Informática'}\n",
      "{'dni': '23456789Y', 'edad': 22, 'nombre_grado': 'Grado en Derecho'}\n",
      "{'dni': '23456789Y', 'edad': 22, 'nombre_grado': 'Grado en Medicina'}\n",
      "{'dni': '34567890X', 'edad': 23, 'nombre_grado': 'Grado en Medicina'}\n",
      "{'dni': '45678901W',\n",
      " 'edad': 23,\n",
      " 'nombre_grado': 'Grado en Comunicación Audiovisual'}\n",
      "{'dni': '56789012V', 'edad': 19, 'nombre_grado': 'Grado en Psicología'}\n",
      "{'dni': '56789012V', 'edad': 19, 'nombre_grado': 'Grado en Enfermería'}\n"
     ]
    }
   ],
   "source": [
    "pipeline = [\n",
    "    {\n",
    "        \"$lookup\": {\n",
    "            \"from\": \"grados\",                 \n",
    "            \"localField\": \"grado_ids\",         \n",
    "            \"foreignField\": \"_id\",              \n",
    "            \"as\": \"grados_info\"                 \n",
    "        }\n",
    "    },\n",
    "    {\n",
    "        \"$unwind\": \"$grados_info\"               \n",
    "    },\n",
    "    {\n",
    "        \"$project\": {\n",
    "            \"_id\": 0,                           \n",
    "            \"edad\": 1,                        \n",
    "            \"dni\": 1,                         \n",
    "            \"nombre_grado\": \"$grados_info.nombre\"  \n",
    "        }\n",
    "    }\n",
    "]\n",
    "\n",
    "# Ejecutar el pipeline\n",
    "documentos = db.alumnos.aggregate(pipeline)\n",
    "\n",
    "for documento in documentos:\n",
    "    pprint(documento)"
   ]
  },
  {
   "cell_type": "markdown",
   "metadata": {},
   "source": [
    "### Explicación"
   ]
  },
  {
   "cell_type": "markdown",
   "metadata": {},
   "source": []
  },
  {
   "cell_type": "markdown",
   "metadata": {},
   "source": [
    "# *Apartado M*"
   ]
  },
  {
   "cell_type": "markdown",
   "metadata": {},
   "source": [
    "Realiza una join entre las colecciones de alumnos, grados, campus y universidades.  \n",
    "Selecciona únicamente los campos “dni” y “edad” de la colección de alumnos, el nombre del grado como “nombre_grado”, el nombre del campus como “nombre_campus” y el nombre de la universidad como “nombre_universidad”.  \n",
    "El resultado debe generar un documento por cada combinación de alumno con grado.  "
   ]
  },
  {
   "cell_type": "markdown",
   "metadata": {},
   "source": [
    "### Consulta en MongoDB"
   ]
  },
  {
   "cell_type": "markdown",
   "metadata": {},
   "source": [
    "```mongodb\n",
    "db.alumnos.aggregate([\n",
    "    {\n",
    "        $lookup: {\n",
    "            from: \"grados\",                   // Join con la colección \"grados\"\n",
    "            localField: \"grado_ids\",          // Campo en la colección \"alumnos\" que contiene los IDs de grados\n",
    "            foreignField: \"_id\",              // Campo en la colección \"grados\" que es el ID\n",
    "            as: \"grados_info\"                 // Nombre del campo resultante que contendrá los documentos \"grados\" coincidentes\n",
    "        }\n",
    "    },\n",
    "    {\n",
    "        $unwind: \"$grados_info\"               // Descomponer el array resultante de \"grados_info\" en documentos individuales\n",
    "    },\n",
    "    {\n",
    "        $lookup: {\n",
    "            from: \"campus\",                   // Join con la colección \"campus\"\n",
    "            localField: \"grados_info.campus_id\",  // Campo en la colección \"grados_info\" que contiene el ID del campus\n",
    "            foreignField: \"_id\",              // Campo en la colección \"campus\" que es el ID\n",
    "            as: \"campus_info\"                 // Nombre del campo resultante que contendrá los documentos \"campus\" coincidentes\n",
    "        }\n",
    "    },\n",
    "    {\n",
    "        $unwind: \"$campus_info\"               // Descomponer el array resultante de \"campus_info\" en documentos individuales\n",
    "    },\n",
    "    {\n",
    "        $lookup: {\n",
    "            from: \"universidades\",              // Join con la colección \"universidades\"\n",
    "            localField: \"campus_info.universidad_id\",  // Campo en la colección \"campus_info\" que contiene el ID de la universidad\n",
    "            foreignField: \"_id\",              // Campo en la colección \"universidad\" que es el ID\n",
    "            as: \"universidad_info\"            // Nombre del campo resultante que contendrá los documentos \"universidades\" coincidentes\n",
    "        }\n",
    "    },\n",
    "    {\n",
    "        $unwind: \"$universidad_info\"          // Descomponer el array resultante de \"universidad_info\" en documentos individuales\n",
    "    },\n",
    "    {\n",
    "        $project: {\n",
    "            _id: 0,                           // Excluir el campo _id de la salida\n",
    "            edad: 1,                          // Incluir el campo \"edad\" del alumno\n",
    "            dni: 1,                           // Incluir el campo \"dni\" del alumno\n",
    "            nombre_grado: \"$grados_info.nombre\",  // Renombrar el campo \"nombre\" del grado a \"nombre_grado\"\n",
    "            nombre_campus: \"$campus_info.nombre\",  // Incluir el nombre del campus\n",
    "            nombre_universidad: \"$universidad_info.nombre\"  // Incluir el nombre de la universidad\n",
    "        }\n",
    "    }\n",
    "]).pretty()"
   ]
  },
  {
   "cell_type": "markdown",
   "metadata": {},
   "source": [
    "### Consulta en Python"
   ]
  },
  {
   "cell_type": "code",
   "execution_count": 32,
   "metadata": {},
   "outputs": [
    {
     "name": "stdout",
     "output_type": "stream",
     "text": [
      "{'dni': '12345678Z',\n",
      " 'edad': 20,\n",
      " 'nombre_campus': 'Campus de Móstoles',\n",
      " 'nombre_grado': 'Grado en Administración y Dirección de Empresas',\n",
      " 'nombre_universidad': 'Universidad Rey Juan Carlos'}\n",
      "{'dni': '12345678Z',\n",
      " 'edad': 20,\n",
      " 'nombre_campus': 'Campus de Móstoles',\n",
      " 'nombre_grado': 'Grado en Ingeniería Informática',\n",
      " 'nombre_universidad': 'Universidad Rey Juan Carlos'}\n",
      "{'dni': '23456789Y',\n",
      " 'edad': 22,\n",
      " 'nombre_campus': 'Campus de Madrid',\n",
      " 'nombre_grado': 'Grado en Derecho',\n",
      " 'nombre_universidad': 'Universidad CEU San Pablo'}\n",
      "{'dni': '23456789Y',\n",
      " 'edad': 22,\n",
      " 'nombre_campus': 'Campus de Moncloa',\n",
      " 'nombre_grado': 'Grado en Medicina',\n",
      " 'nombre_universidad': 'Universidad Complutense de Madrid'}\n",
      "{'dni': '34567890X',\n",
      " 'edad': 23,\n",
      " 'nombre_campus': 'Campus de Moncloa',\n",
      " 'nombre_grado': 'Grado en Medicina',\n",
      " 'nombre_universidad': 'Universidad Complutense de Madrid'}\n",
      "{'dni': '45678901W',\n",
      " 'edad': 23,\n",
      " 'nombre_campus': 'Campus de Montepríncipe',\n",
      " 'nombre_grado': 'Grado en Comunicación Audiovisual',\n",
      " 'nombre_universidad': 'Universidad CEU San Pablo'}\n",
      "{'dni': '56789012V',\n",
      " 'edad': 19,\n",
      " 'nombre_campus': 'Campus de Moncloa',\n",
      " 'nombre_grado': 'Grado en Psicología',\n",
      " 'nombre_universidad': 'Universidad Complutense de Madrid'}\n",
      "{'dni': '56789012V',\n",
      " 'edad': 19,\n",
      " 'nombre_campus': 'Campus de Alcorcón',\n",
      " 'nombre_grado': 'Grado en Enfermería',\n",
      " 'nombre_universidad': 'Universidad Rey Juan Carlos'}\n"
     ]
    }
   ],
   "source": [
    "pipeline = [\n",
    "    {\n",
    "        \"$lookup\": {\n",
    "            \"from\": \"grados\",                   \n",
    "            \"localField\": \"grado_ids\",          \n",
    "            \"foreignField\": \"_id\",              \n",
    "            \"as\": \"grados_info\"                 \n",
    "        }\n",
    "    },\n",
    "    {\n",
    "        \"$unwind\": \"$grados_info\"               \n",
    "    },\n",
    "    {\n",
    "        \"$lookup\": {\n",
    "            \"from\": \"campus\",                   \n",
    "            \"localField\": \"grados_info.campus_id\", \n",
    "            \"foreignField\": \"_id\",              \n",
    "            \"as\": \"campus_info\"              \n",
    "        }\n",
    "    },\n",
    "    {\n",
    "        \"$unwind\": \"$campus_info\"               \n",
    "    },\n",
    "    {\n",
    "        \"$lookup\": {\n",
    "            \"from\": \"universidades\",              \n",
    "            \"localField\": \"campus_info.universidad_id\",  \n",
    "            \"foreignField\": \"_id\",              \n",
    "            \"as\": \"universidad_info\"           \n",
    "        }\n",
    "    },\n",
    "    {\n",
    "        \"$unwind\": \"$universidad_info\"          \n",
    "    },\n",
    "    {\n",
    "        \"$project\": {\n",
    "            \"_id\": 0,                           \n",
    "            \"edad\": 1,                          \n",
    "            \"dni\": 1,                          \n",
    "            \"nombre_grado\": \"$grados_info.nombre\",  \n",
    "            \"nombre_campus\": \"$campus_info.nombre\",  \n",
    "            \"nombre_universidad\": \"$universidad_info.nombre\"  \n",
    "        }\n",
    "    }\n",
    "]\n",
    "\n",
    "# Ejecutar el pipeline\n",
    "documentos = db.alumnos.aggregate(pipeline)\n",
    "\n",
    "for documento in documentos:\n",
    "    pprint(documento)"
   ]
  },
  {
   "cell_type": "markdown",
   "metadata": {},
   "source": [
    "### Explicación"
   ]
  },
  {
   "cell_type": "markdown",
   "metadata": {},
   "source": []
  }
 ],
 "metadata": {
  "kernelspec": {
   "display_name": "MongoDB",
   "language": "python",
   "name": "python3"
  },
  "language_info": {
   "codemirror_mode": {
    "name": "ipython",
    "version": 3
   },
   "file_extension": ".py",
   "mimetype": "text/x-python",
   "name": "python",
   "nbconvert_exporter": "python",
   "pygments_lexer": "ipython3",
   "version": "3.12.7"
  }
 },
 "nbformat": 4,
 "nbformat_minor": 2
}
