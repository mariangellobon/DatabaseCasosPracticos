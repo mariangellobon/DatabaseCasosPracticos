{
 "cells": [
  {
   "cell_type": "markdown",
   "metadata": {},
   "source": [
    "# Práctica 2: Caso práctico con Mongo DB."
   ]
  },
  {
   "cell_type": "code",
   "execution_count": null,
   "metadata": {},
   "outputs": [],
   "source": [
    "# Imports\n",
    "import pymongo\n",
    "import json\n",
    "from datetime import datetime\n",
    "from pprint import pprint"
   ]
  },
  {
   "cell_type": "markdown",
   "metadata": {},
   "source": [
    "# **EJERCICIO 2**"
   ]
  },
  {
   "cell_type": "markdown",
   "metadata": {},
   "source": [
    "# *Apartado A*"
   ]
  },
  {
   "cell_type": "markdown",
   "metadata": {},
   "source": [
    "Completa los datos de conexión a la BBDD MongoDB."
   ]
  },
  {
   "cell_type": "markdown",
   "metadata": {},
   "source": [
    "### Consulta en Python"
   ]
  },
  {
   "cell_type": "code",
   "execution_count": null,
   "metadata": {},
   "outputs": [],
   "source": [
    "# Conexiones con MongoDB\n",
    "db_name = \"practica_2_mongodb\"\n",
    "db_uri = \"mongodb://localhost:27017\"\n",
    "db_client = pymongo.MongoClient(db_uri)\n",
    "db = db_client[db_name]"
   ]
  },
  {
   "cell_type": "code",
   "execution_count": null,
   "metadata": {},
   "outputs": [],
   "source": [
    "ruta_coleccion_usuarios = r\"usuarios.json\"\n",
    "ruta_coleccion_partidas = r\"partidas.json\""
   ]
  },
  {
   "cell_type": "code",
   "execution_count": 5,
   "metadata": {},
   "outputs": [],
   "source": [
    "# Colecciones\n",
    "nombre_coleccion_usuarios = \"usuarios\"\n",
    "nombre_coleccion_partidas = \"partidas\"\n",
    "\n",
    "coleccion_usuarios = db[nombre_coleccion_usuarios]\n",
    "coleccion_partidas = db[nombre_coleccion_partidas]"
   ]
  },
  {
   "cell_type": "markdown",
   "metadata": {},
   "source": [
    "### Explicación"
   ]
  },
  {
   "cell_type": "markdown",
   "metadata": {},
   "source": []
  },
  {
   "cell_type": "markdown",
   "metadata": {},
   "source": [
    "# *Apartado B*"
   ]
  },
  {
   "cell_type": "markdown",
   "metadata": {},
   "source": [
    "* Genera una función (“check_if_exist(db, nombre_coleccion))” que compruebe si las colecciones existen y, en caso de existir, las elimine. \n",
    "* A su vez, si la colección se ha borrado, que escriba un mensaje por pantalla y, si no existe, también.  \n",
    "* Usa dicha función con nuestras dos colecciones."
   ]
  },
  {
   "cell_type": "markdown",
   "metadata": {},
   "source": [
    "### Consulta en Python"
   ]
  },
  {
   "cell_type": "code",
   "execution_count": null,
   "metadata": {},
   "outputs": [],
   "source": [
    "def check_if_exist(db, nombre_coleccion):\n",
    "\n",
    "    if nombre_coleccion in db.list_collection_names():\n",
    "        db[nombre_coleccion].drop()\n",
    "        print(f\"La colección '{nombre_coleccion}' ha sido borrada.\")\n",
    "    else:\n",
    "        print(f\"La colección '{nombre_coleccion}' no existe.\")\n",
    "\n",
    "# Comprobar si existen\n",
    "check_if_exist(db, nombre_coleccion_usuarios)\n",
    "check_if_exist(db, nombre_coleccion_partidas)"
   ]
  },
  {
   "cell_type": "markdown",
   "metadata": {},
   "source": [
    "### Explicación"
   ]
  },
  {
   "cell_type": "markdown",
   "metadata": {},
   "source": []
  },
  {
   "cell_type": "markdown",
   "metadata": {},
   "source": [
    "# *Apartado C*"
   ]
  },
  {
   "cell_type": "markdown",
   "metadata": {},
   "source": [
    "* Carga los ficheros de datos JSON proporcionados en sus colecciones correspondientes.  \n",
    "* Para ello, genera una función genérica (“load_data(coleccion, ruta_fichero_json))” y úsala."
   ]
  },
  {
   "cell_type": "markdown",
   "metadata": {},
   "source": [
    "### Consulta en Python"
   ]
  },
  {
   "cell_type": "code",
   "execution_count": null,
   "metadata": {},
   "outputs": [],
   "source": [
    "def load_data(coleccion, ruta_fichero_json):\n",
    "    with open(ruta_fichero_json, 'r') as file:\n",
    "        data = json.load(file)\n",
    "    coleccion.insert_many(data)\n",
    "    print(f\"Se ha insertado la informacion en la coleccion '{coleccion}'\")\n",
    "\n",
    "load_data(coleccion_usuarios, ruta_coleccion_usuarios)\n",
    "load_data(coleccion_partidas, ruta_coleccion_partidas)"
   ]
  },
  {
   "cell_type": "markdown",
   "metadata": {},
   "source": [
    "### Explicación"
   ]
  },
  {
   "cell_type": "markdown",
   "metadata": {},
   "source": []
  },
  {
   "cell_type": "markdown",
   "metadata": {},
   "source": [
    "# *Apartado D*"
   ]
  },
  {
   "cell_type": "markdown",
   "metadata": {},
   "source": [
    "* Obtén las puntuaciones más altas de cada jugador, es decir, la puntuación máxima de cada uno.\n",
    "* Genera un ranking ordenado de mayor a menor."
   ]
  },
  {
   "cell_type": "markdown",
   "metadata": {},
   "source": [
    "### Consulta en Python"
   ]
  },
  {
   "cell_type": "code",
   "execution_count": null,
   "metadata": {},
   "outputs": [],
   "source": [
    "pipeline = [\n",
    "    { \"$group\": { \"_id\": \"$user_id\", \"maxScore\": { \"$max\": \"$score\" } } },\n",
    "    { \"$project\": {\"_id\": 0, \"username\": \"$_id\", \"maxScore\": 1}},\n",
    "    { \"$sort\": { \"maxScore\": -1 } }\n",
    "]\n",
    "\n",
    "documentos = coleccion_partidas.aggregate(pipeline)\n",
    "\n",
    "for doc in documentos:\n",
    "    print(doc)\n"
   ]
  },
  {
   "cell_type": "markdown",
   "metadata": {},
   "source": [
    "### Explicación"
   ]
  },
  {
   "cell_type": "markdown",
   "metadata": {},
   "source": []
  },
  {
   "cell_type": "markdown",
   "metadata": {},
   "source": [
    "# *Apartado E*"
   ]
  },
  {
   "cell_type": "markdown",
   "metadata": {},
   "source": [
    "* Lista todos los jugadores que hayan superado el nivel 3.\n",
    "* Ordénalos de mayor a menor por nivel."
   ]
  },
  {
   "cell_type": "markdown",
   "metadata": {},
   "source": [
    "### Consulta en Python"
   ]
  },
  {
   "cell_type": "code",
   "execution_count": null,
   "metadata": {},
   "outputs": [],
   "source": [
    "documentos = coleccion_partidas.find(\n",
    "        { \"level\": { \"$gt\": 3 } }\n",
    "    ).sort(\"level\", -1)\n",
    "\n",
    "for doc in documentos:\n",
    "    pprint(doc)"
   ]
  },
  {
   "cell_type": "markdown",
   "metadata": {},
   "source": [
    "### Explicación"
   ]
  },
  {
   "cell_type": "markdown",
   "metadata": {},
   "source": []
  },
  {
   "cell_type": "markdown",
   "metadata": {},
   "source": [
    "# *Apartado F*"
   ]
  },
  {
   "cell_type": "markdown",
   "metadata": {},
   "source": [
    "* Lista todas las partidas jugadas entre el 01/03/2024 y el 30/04/2024."
   ]
  },
  {
   "cell_type": "markdown",
   "metadata": {},
   "source": [
    "### Consulta en Python"
   ]
  },
  {
   "cell_type": "code",
   "execution_count": null,
   "metadata": {},
   "outputs": [],
   "source": [
    "fecha_inicio = \"2024-03-01\"\n",
    "fecha_fin = \"2024-03-31\"\n",
    "\n",
    "documentos = coleccion_partidas.find({ \n",
    "    \"date\": { \n",
    "        \"$gte\": fecha_inicio, \n",
    "        \"$lte\": fecha_fin \n",
    "    } \n",
    "})\n",
    "\n",
    "for doc in documentos:\n",
    "    pprint(doc)\n"
   ]
  },
  {
   "cell_type": "markdown",
   "metadata": {},
   "source": [
    "### Explicación"
   ]
  },
  {
   "cell_type": "markdown",
   "metadata": {},
   "source": []
  },
  {
   "cell_type": "markdown",
   "metadata": {},
   "source": [
    "# *Apartado G*"
   ]
  },
  {
   "cell_type": "markdown",
   "metadata": {},
   "source": [
    "* Genera un ranking de jugadores por puntuación total acumulada.\n",
    "* Ordénalo de mayor a menor."
   ]
  },
  {
   "cell_type": "markdown",
   "metadata": {},
   "source": [
    "### Consulta en Python"
   ]
  },
  {
   "cell_type": "code",
   "execution_count": null,
   "metadata": {},
   "outputs": [],
   "source": [
    "pipeline = [\n",
    "    { \"$group\": { \"_id\": \"$user_id\", \"totalScore\": { \"$sum\": \"$score\" } } },\n",
    "    { \"$sort\": { \"totalScore\": -1 } }\n",
    "]\n",
    "\n",
    "documentos = coleccion_partidas.aggregate(pipeline)\n",
    "\n",
    "for doc in documentos:\n",
    "    print(doc)"
   ]
  },
  {
   "cell_type": "markdown",
   "metadata": {},
   "source": [
    "### Explicación"
   ]
  },
  {
   "cell_type": "markdown",
   "metadata": {},
   "source": []
  },
  {
   "cell_type": "markdown",
   "metadata": {},
   "source": [
    "# *Apartado H*"
   ]
  },
  {
   "cell_type": "markdown",
   "metadata": {},
   "source": [
    "* Muestra al usuario con la partida más larga en duración"
   ]
  },
  {
   "cell_type": "markdown",
   "metadata": {},
   "source": [
    "### Consulta en Python"
   ]
  },
  {
   "cell_type": "code",
   "execution_count": null,
   "metadata": {},
   "outputs": [],
   "source": [
    "# OPCION 1\n",
    "\n",
    "pipeline = [\n",
    "    { \"$group\": {\"_id\": \"$user_id\", \"maxDuration\": {\"$max\": \"$duration\"} } },\n",
    "    { \"$project\": {\"_id\": 0, \"username\": \"$_id\", \"maxDuration\": 1} },\n",
    "    {\"$sort\": {\"maxDuration\": -1}},\n",
    "    {\"$limit\": 1}\n",
    "]\n",
    "\n",
    "documentos = coleccion_partidas.aggregate(pipeline)\n",
    "\n",
    "for doc in documentos:\n",
    "    pprint(doc)"
   ]
  },
  {
   "cell_type": "code",
   "execution_count": null,
   "metadata": {},
   "outputs": [],
   "source": [
    "# OPCION 2\n",
    "\n",
    "documentos = coleccion_partidas.find({}, { \"username\": \"$user_id\", \"duration\": 1, \"_id\": 0 }).sort(\"duration\", -1).limit(1)\n",
    "\n",
    "for doc in documentos:\n",
    "    pprint(doc)"
   ]
  },
  {
   "cell_type": "markdown",
   "metadata": {},
   "source": [
    "### Explicación"
   ]
  },
  {
   "cell_type": "markdown",
   "metadata": {},
   "source": []
  },
  {
   "cell_type": "markdown",
   "metadata": {},
   "source": [
    "# *Apartado I*"
   ]
  },
  {
   "cell_type": "markdown",
   "metadata": {},
   "source": [
    "* Muestra el username, correo electrónico y puntuación del jugador con la puntuación más alta.  \n",
    "* La salida debe contener solo el registro de dicho jugador."
   ]
  },
  {
   "cell_type": "markdown",
   "metadata": {},
   "source": [
    "### Consulta en Python"
   ]
  },
  {
   "cell_type": "code",
   "execution_count": null,
   "metadata": {},
   "outputs": [],
   "source": [
    "pipeline = [\n",
    "    {\n",
    "        \"$lookup\": {\n",
    "            \"from\": \"partidas\",\n",
    "            \"localField\": \"username\",\n",
    "            \"foreignField\": \"user_id\",\n",
    "            \"as\": \"user_games\"\n",
    "        }\n",
    "    },\n",
    "    { \"$unwind\": \"$user_games\" },\n",
    "    { \n",
    "        \"$group\": { \n",
    "            \"_id\": \"$username\", \n",
    "            \"username\": { \"$first\": \"$username\" }, \n",
    "            \"email\": { \"$first\": \"$email\" }, \n",
    "            \"maxScore\": { \"$max\": \"$user_games.score\" } \n",
    "        } \n",
    "    },\n",
    "    { \"$sort\": { \"maxScore\": -1 } },\n",
    "    { \n",
    "        \"$project\": { \n",
    "            \"_id\": 0, \n",
    "            \"username\": 1, \n",
    "            \"email\": 1, \n",
    "            \"maxScore\": 1 \n",
    "        } \n",
    "    },\n",
    "    { \"$limit\": 1 }\n",
    "]\n",
    "\n",
    "documentos = coleccion_usuarios.aggregate(pipeline)\n",
    "\n",
    "for doc in documentos:\n",
    "    pprint(doc)\n"
   ]
  },
  {
   "cell_type": "markdown",
   "metadata": {},
   "source": [
    "### Explicación"
   ]
  },
  {
   "cell_type": "markdown",
   "metadata": {},
   "source": [
    "* En esta etapa hacemos la join entre la coleccion de usuarios y partidas.\n",
    "```\n",
    "{\n",
    "    \"$lookup\": {\n",
    "        \"from\": \"partidas\",\n",
    "        \"localField\": \"username\",\n",
    "        \"foreignField\": \"user_id\",\n",
    "        \"as\": \"user_games\"\n",
    "    }\n",
    "}\n",
    "```\n",
    "* Desacoplamos la lista de documentos resultantes en un documento separado para cada join de usuarios con partidas.\n",
    "```\n",
    "{ \"$unwind\": \"$user_games\" }\n",
    "```\n",
    "* En esta etapa agrupamos por username y calculamos el maxScore.\n",
    "* Como quemos conservar el username y el email para la siguiente etapa, debemos seleccionar la primera ocurrencia de cada uno de ellos porque si no MongoDB no sabe como agregarlos y da error.\n",
    "```\n",
    "\"$group\": { \n",
    "    \"_id\": \"$username\", \n",
    "    \"username\": { \"$first\": \"$username\" }, \n",
    "    \"email\": { \"$first\": \"$email\" }, \n",
    "    \"maxScore\": { \"$max\": \"$user_games.score\" } \n",
    "} \n",
    "```\n",
    "* Ordenamos de forma descendente.\n",
    "```\n",
    "{ \"$sort\": { \"maxScore\": -1 } }\n",
    "```\n",
    "* Mostramos los campos username, email y maxScore. Quitamos de la vista el valor \"_id\" mostrado por defecto.\n",
    "```\n",
    "{ \n",
    "    \"$project\": { \n",
    "        \"_id\": 0, \n",
    "        \"username\": 1, \n",
    "        \"email\": 1, \n",
    "        \"maxScore\": 1 \n",
    "    } \n",
    "},\n",
    "```\n",
    "* Limitamos la salida a un único documento\n",
    "```\n",
    "{ \"$limit\": 1 }\n",
    "```"
   ]
  },
  {
   "cell_type": "markdown",
   "metadata": {},
   "source": []
  }
 ],
 "metadata": {
  "kernelspec": {
   "display_name": "MongoDB",
   "language": "python",
   "name": "python3"
  },
  "language_info": {
   "codemirror_mode": {
    "name": "ipython",
    "version": 3
   },
   "file_extension": ".py",
   "mimetype": "text/x-python",
   "name": "python",
   "nbconvert_exporter": "python",
   "pygments_lexer": "ipython3",
   "version": "3.12.7"
  }
 },
 "nbformat": 4,
 "nbformat_minor": 2
}
