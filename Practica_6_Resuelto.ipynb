{
 "cells": [
  {
   "cell_type": "markdown",
   "metadata": {},
   "source": [
    "# Tema 6 - Practica 1: Redis"
   ]
  },
  {
   "cell_type": "code",
   "execution_count": 2,
   "metadata": {},
   "outputs": [],
   "source": [
    "import redis\n",
    "import json"
   ]
  },
  {
   "cell_type": "markdown",
   "metadata": {},
   "source": [
    "# Apartado A"
   ]
  },
  {
   "cell_type": "markdown",
   "metadata": {},
   "source": [
    "Configura la conexión a la BBDD Redis que previamente has levantado en Docker."
   ]
  },
  {
   "cell_type": "code",
   "execution_count": 7,
   "metadata": {},
   "outputs": [],
   "source": [
    "# Configura la conexión\n",
    "redis_host = \"localhost\" # Cambia esto por la IP o el hostname del contenedor si no está en localhost\n",
    "redis_port = 6379 # Puerto por defecto\n",
    "redis_db = 0 # BBDD a usar dentro de redis (Por defecto de 0 a 15)"
   ]
  },
  {
   "cell_type": "code",
   "execution_count": 8,
   "metadata": {},
   "outputs": [],
   "source": [
    "# Crear conexion\n",
    "redis_client = redis.StrictRedis(host=redis_host, port=redis_port, db=redis_db, decode_responses=True)"
   ]
  },
  {
   "cell_type": "markdown",
   "metadata": {},
   "source": [
    "# Apartado B"
   ]
  },
  {
   "cell_type": "markdown",
   "metadata": {},
   "source": [
    "Configura un metodo \"crear_carrito\" que cree un carrito de la compra con la cesta vacía, un username vinculado y un importe total de 0."
   ]
  },
  {
   "cell_type": "code",
   "execution_count": 9,
   "metadata": {},
   "outputs": [],
   "source": [
    "# Version Clave - Valor\n",
    "\n",
    "def crear_carrito_v1(username):\n",
    "    cart_data = {\n",
    "        \"username\": username,\n",
    "        \"cesta\": [],\n",
    "        \"importe_total\": 0.0,\n",
    "    }\n",
    "\n",
    "    redis_client.set(username, json.dumps(cart_data))"
   ]
  },
  {
   "cell_type": "code",
   "execution_count": 10,
   "metadata": {},
   "outputs": [],
   "source": [
    "crear_carrito_v1(\"jorgegc_v1\")"
   ]
  },
  {
   "cell_type": "code",
   "execution_count": 11,
   "metadata": {},
   "outputs": [],
   "source": [
    "# Version con estructura de datos hashes de Redis\n",
    "\n",
    "def crear_carrito_v2(username):\n",
    "    redis_client.hset(username, \n",
    "    mapping={\n",
    "        \"username\": username,\n",
    "        \"cesta\": json.dumps([]),\n",
    "        \"importe_total\": 0.0\n",
    "        })"
   ]
  },
  {
   "cell_type": "code",
   "execution_count": 12,
   "metadata": {},
   "outputs": [],
   "source": [
    "crear_carrito_v2(\"jorgegc_v2\")"
   ]
  },
  {
   "cell_type": "markdown",
   "metadata": {},
   "source": [
    "Las ventajas de usar hashes para este caso son:\n",
    "* Optimizacion del espacio: Redis almacena hashes de manera compacta.\n",
    "* Acceso granular: No necesitamos acceder a toda la estructura de datos para modificar, por ejemplo, solo el importe total.\n",
    "* Escalabilidad: Mejor en el caso de gestionar muchos usuarios y carritos."
   ]
  },
  {
   "cell_type": "markdown",
   "metadata": {},
   "source": [
    "# Apartado C"
   ]
  },
  {
   "cell_type": "markdown",
   "metadata": {},
   "source": [
    "Crear una funcion que permita recuperar el contenido del carrito"
   ]
  },
  {
   "cell_type": "code",
   "execution_count": 18,
   "metadata": {},
   "outputs": [],
   "source": [
    "def recuperar_carrito_v1(username):\n",
    "    cart_json = redis_client.get(username)\n",
    "    return json.loads(cart_json) if cart_json else None"
   ]
  },
  {
   "cell_type": "code",
   "execution_count": 19,
   "metadata": {},
   "outputs": [
    {
     "data": {
      "text/plain": [
       "{'username': 'jorgegc_v1', 'cesta': [], 'importe_total': 0.0}"
      ]
     },
     "execution_count": 19,
     "metadata": {},
     "output_type": "execute_result"
    }
   ],
   "source": [
    "recuperar_carrito_v1(\"jorgegc_v1\")"
   ]
  },
  {
   "cell_type": "code",
   "execution_count": 13,
   "metadata": {},
   "outputs": [],
   "source": [
    "def recuperar_carrito_v2(username):\n",
    "    # Esto nos da todo (username, cesta y importe total) pero esta todo en string\n",
    "    cart_hash = redis_client.hgetall(username)\n",
    "    if not cart_hash:\n",
    "        return None\n",
    "\n",
    "    # Reconstruir la estructura del carrito\n",
    "    cart_hash[\"cesta\"] = json.loads(cart_hash[\"cesta\"]) if \"cesta\" in cart_hash else []\n",
    "    cart_hash[\"importe_total\"] = float(cart_hash[\"importe_total\"])\n",
    "    return cart_hash"
   ]
  },
  {
   "cell_type": "code",
   "execution_count": 14,
   "metadata": {},
   "outputs": [
    {
     "data": {
      "text/plain": [
       "{'username': 'jorgegc_v2', 'cesta': [], 'importe_total': 0.0}"
      ]
     },
     "execution_count": 14,
     "metadata": {},
     "output_type": "execute_result"
    }
   ],
   "source": [
    "recuperar_carrito_v2(\"jorgegc_v2\")"
   ]
  },
  {
   "cell_type": "markdown",
   "metadata": {},
   "source": [
    "# Apartado D"
   ]
  },
  {
   "cell_type": "markdown",
   "metadata": {},
   "source": [
    "Funcion que calcule el importe total dada una cesta de la compra"
   ]
  },
  {
   "cell_type": "code",
   "execution_count": 15,
   "metadata": {},
   "outputs": [],
   "source": [
    "def calcular_total(cesta):\n",
    "    return sum(item[\"cantidad\"] * item[\"precio_unitario\"] for item in cesta)"
   ]
  },
  {
   "cell_type": "code",
   "execution_count": 20,
   "metadata": {},
   "outputs": [
    {
     "data": {
      "text/plain": [
       "{'username': 'jorgegc_v1', 'cesta': [], 'importe_total': 0}"
      ]
     },
     "execution_count": 20,
     "metadata": {},
     "output_type": "execute_result"
    }
   ],
   "source": [
    "carrito = recuperar_carrito_v1(\"jorgegc_v1\")\n",
    "carrito[\"importe_total\"] = calcular_total(carrito[\"cesta\"])\n",
    "carrito"
   ]
  },
  {
   "cell_type": "code",
   "execution_count": 16,
   "metadata": {},
   "outputs": [
    {
     "data": {
      "text/plain": [
       "{'username': 'jorgegc_v2', 'cesta': [], 'importe_total': 0}"
      ]
     },
     "execution_count": 16,
     "metadata": {},
     "output_type": "execute_result"
    }
   ],
   "source": [
    "carrito = recuperar_carrito_v2(\"jorgegc_v2\")\n",
    "carrito[\"importe_total\"] = calcular_total(carrito[\"cesta\"])\n",
    "carrito"
   ]
  },
  {
   "cell_type": "markdown",
   "metadata": {},
   "source": [
    "# Apartado E"
   ]
  },
  {
   "cell_type": "markdown",
   "metadata": {},
   "source": [
    "Crear una funcion que guarde el carrito de la compra en la BBDD"
   ]
  },
  {
   "cell_type": "code",
   "execution_count": 21,
   "metadata": {},
   "outputs": [],
   "source": [
    "def guardar_carrito_v1(username, carrito):\n",
    "    redis_client.set(username, json.dumps(carrito))"
   ]
  },
  {
   "cell_type": "code",
   "execution_count": 17,
   "metadata": {},
   "outputs": [],
   "source": [
    "def guardar_carrito_v2(username, carrito):\n",
    "    redis_client.hset(username, \n",
    "        mapping={\n",
    "            \"username\": username,\n",
    "            \"cesta\": json.dumps(carrito[\"cesta\"]),\n",
    "            \"importe_total\": carrito[\"importe_total\"]\n",
    "        })"
   ]
  },
  {
   "cell_type": "markdown",
   "metadata": {},
   "source": [
    "# Apartado F"
   ]
  },
  {
   "cell_type": "markdown",
   "metadata": {},
   "source": [
    "Crear una funcion que permita añadir un item al carrito"
   ]
  },
  {
   "cell_type": "code",
   "execution_count": 22,
   "metadata": {},
   "outputs": [],
   "source": [
    "def añadir_item(username, item):\n",
    "    carrito = recuperar_carrito_v1(username)\n",
    "    #carrito = recuperar_carrito_v2(username)\n",
    "    carrito[\"cesta\"].append(item)\n",
    "    carrito[\"importe_total\"] = calcular_total(carrito[\"cesta\"])\n",
    "    guardar_carrito_v1(username, carrito)"
   ]
  },
  {
   "cell_type": "code",
   "execution_count": 36,
   "metadata": {},
   "outputs": [],
   "source": [
    "item_1 = {\"articulo\": \"item_1\", \"cantidad\": 2, \"precio_unitario\": 2}\n",
    "item_2 = {\"articulo\": \"item_2\", \"cantidad\": 1, \"precio_unitario\": 15}\n",
    "\n",
    "añadir_item(\"jorgegc_v1\", item_1)\n",
    "añadir_item(\"jorgegc_v1\", item_2)"
   ]
  },
  {
   "cell_type": "code",
   "execution_count": 37,
   "metadata": {},
   "outputs": [
    {
     "data": {
      "text/plain": [
       "{'username': 'jorgegc_v1',\n",
       " 'cesta': [{'articulo': 'item_1', 'cantidad': 2, 'precio_unitario': 2},\n",
       "  {'articulo': 'item_2', 'cantidad': 1, 'precio_unitario': 15}],\n",
       " 'importe_total': 19}"
      ]
     },
     "execution_count": 37,
     "metadata": {},
     "output_type": "execute_result"
    }
   ],
   "source": [
    "recuperar_carrito_v1(\"jorgegc_v1\")"
   ]
  },
  {
   "cell_type": "markdown",
   "metadata": {},
   "source": [
    "# Apartado G"
   ]
  },
  {
   "cell_type": "markdown",
   "metadata": {},
   "source": [
    "Crear una funcion que permita eliminar un item del carrito"
   ]
  },
  {
   "cell_type": "code",
   "execution_count": 38,
   "metadata": {},
   "outputs": [],
   "source": [
    "def eliminar_item(username, item_name):\n",
    "    carrito = recuperar_carrito_v1(username)\n",
    "    carrito[\"cesta\"] = [item for item in carrito[\"cesta\"] if item[\"articulo\"] != item_name]\n",
    "    carrito[\"importe_total\"] = calcular_total(carrito[\"cesta\"])\n",
    "    guardar_carrito_v1(username, carrito)"
   ]
  },
  {
   "cell_type": "code",
   "execution_count": 39,
   "metadata": {},
   "outputs": [
    {
     "data": {
      "text/plain": [
       "{'username': 'jorgegc_v1',\n",
       " 'cesta': [{'articulo': 'item_2', 'cantidad': 1, 'precio_unitario': 15}],\n",
       " 'importe_total': 15}"
      ]
     },
     "execution_count": 39,
     "metadata": {},
     "output_type": "execute_result"
    }
   ],
   "source": [
    "eliminar_item(\"jorgegc_v1\", \"item_1\")\n",
    "\n",
    "recuperar_carrito_v1(\"jorgegc_v1\")"
   ]
  },
  {
   "cell_type": "markdown",
   "metadata": {},
   "source": [
    "# Apartado H"
   ]
  },
  {
   "cell_type": "markdown",
   "metadata": {},
   "source": [
    "Crear una funcion que permita vaciar completamente el carrito"
   ]
  },
  {
   "cell_type": "code",
   "execution_count": 40,
   "metadata": {},
   "outputs": [],
   "source": [
    "def vaciar_carrito(username):\n",
    "    crear_carrito_v1(username)"
   ]
  },
  {
   "cell_type": "code",
   "execution_count": 41,
   "metadata": {},
   "outputs": [
    {
     "data": {
      "text/plain": [
       "{'username': 'jorgegc_v1', 'cesta': [], 'importe_total': 0.0}"
      ]
     },
     "execution_count": 41,
     "metadata": {},
     "output_type": "execute_result"
    }
   ],
   "source": [
    "vaciar_carrito(\"jorgegc_v1\")\n",
    "\n",
    "recuperar_carrito_v1(\"jorgegc_v1\")"
   ]
  }
 ],
 "metadata": {
  "kernelspec": {
   "display_name": "Python 3",
   "language": "python",
   "name": "python3"
  },
  "language_info": {
   "codemirror_mode": {
    "name": "ipython",
    "version": 3
   },
   "file_extension": ".py",
   "mimetype": "text/x-python",
   "name": "python",
   "nbconvert_exporter": "python",
   "pygments_lexer": "ipython3",
   "version": "3.9.6"
  },
  "orig_nbformat": 4
 },
 "nbformat": 4,
 "nbformat_minor": 2
}
